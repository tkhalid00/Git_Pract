{
 "cells": [
  {
   "cell_type": "code",
   "execution_count": 6,
   "id": "8597ae6d",
   "metadata": {},
   "outputs": [],
   "source": [
    "import numpy as np\n",
    "import matplotlib.pyplot as plt\n",
    "import pandas as pd"
   ]
  },
  {
   "cell_type": "code",
   "execution_count": 7,
   "id": "db829df7",
   "metadata": {},
   "outputs": [
    {
     "name": "stdout",
     "output_type": "stream",
     "text": [
      "This is first change\n"
     ]
    }
   ],
   "source": [
    "print('This is first change')"
   ]
  },
  {
   "cell_type": "code",
   "execution_count": 8,
   "id": "8026a12a",
   "metadata": {},
   "outputs": [
    {
     "name": "stdout",
     "output_type": "stream",
     "text": [
      "This is addition after first change\n"
     ]
    }
   ],
   "source": [
    "print('This is addition after first change')"
   ]
  },
  {
   "cell_type": "code",
   "execution_count": 9,
   "id": "57c88b2a",
   "metadata": {},
   "outputs": [
    {
     "name": "stdout",
     "output_type": "stream",
     "text": [
      "Now we add a third line\n"
     ]
    }
   ],
   "source": [
    "print(\"Now we add a third line\")"
   ]
  },
  {
   "cell_type": "code",
   "execution_count": null,
   "id": "f4cf8735",
   "metadata": {},
   "outputs": [],
   "source": []
  }
 ],
 "metadata": {
  "kernelspec": {
   "display_name": "Python 3",
   "language": "python",
   "name": "python3"
  },
  "language_info": {
   "codemirror_mode": {
    "name": "ipython",
    "version": 3
   },
   "file_extension": ".py",
   "mimetype": "text/x-python",
   "name": "python",
   "nbconvert_exporter": "python",
   "pygments_lexer": "ipython3",
   "version": "3.8.8"
  }
 },
 "nbformat": 4,
 "nbformat_minor": 5
}
